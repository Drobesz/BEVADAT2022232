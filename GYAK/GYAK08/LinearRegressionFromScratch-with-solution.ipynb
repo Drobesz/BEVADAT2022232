{
 "cells": [
  {
   "cell_type": "code",
   "execution_count": 1,
   "metadata": {},
   "outputs": [],
   "source": [
    "# Import numpy and matplotlib\n",
    "import numpy as np\n",
    "import matplotlib.pyplot as plt\n",
    "%matplotlib inline\n",
    "\n",
    "\n",
    "# generate random data-set\n",
    "np.random.seed(0)\n",
    "X = np.random.rand(100, 1)\n",
    "y = 2 + 3 * X + (np.random.rand(100, 1)-0.5)"
   ]
  },
  {
   "cell_type": "code",
   "execution_count": 2,
   "metadata": {},
   "outputs": [
    {
     "data": {
      "image/png": "[encoded data removed]",
      "text/plain": [
       "<Figure size 432x288 with 1 Axes>"
      ]
     },
     "metadata": {
      "needs_background": "light"
     },
     "output_type": "display_data"
    },
    {
     "data": {
      "text/plain": [
       "'\\nKeep in mind that this algorithm usually works with more dimension\\n'"
      ]
     },
     "execution_count": 2,
     "metadata": {},
     "output_type": "execute_result"
    }
   ],
   "source": [
    "# Visualize the dataset\n",
    "plt.scatter(X,y,s=10)\n",
    "plt.xlabel('x')\n",
    "plt.ylabel('y')\n",
    "plt.show()\n",
    "\n",
    "'''\n",
    "Keep in mind that this algorithm usually works with more dimension\n",
    "'''"
   ]
  },
  {
   "cell_type": "markdown",
   "metadata": {},
   "source": [
    "Train the model"
   ]
  },
  {
   "cell_type": "code",
   "execution_count": 3,
   "metadata": {},
   "outputs": [],
   "source": [
    "# Add a column of ones to X (interception data)\n",
    "X = np.c_[np.ones((X.shape[0], 1)), X]              # Watch out for changing the shape of X, don't run this cell twice\n",
    "\n",
    "\n",
    "# Store number of features (n_feature)\n",
    "n_feautres = X.shape[1]"
   ]
  },
  {
   "cell_type": "code",
   "execution_count": 4,
   "metadata": {},
   "outputs": [],
   "source": [
    "# Initialize a list to store losses during training\n",
    "losses = []\n",
    "\n",
    "# Initialize weights\n",
    "weights = np.zeros((n_feautres,1))"
   ]
  },
  {
   "cell_type": "code",
   "execution_count": 5,
   "metadata": {},
   "outputs": [],
   "source": [
    "# Set learning rate to 0.00005 (lr)\n",
    "lr = 0.00005\n",
    "\n",
    "# Set number of epochs to 100 (n_iterations)\n",
    "n_iterations = 100"
   ]
  },
  {
   "cell_type": "code",
   "execution_count": 47,
   "metadata": {},
   "outputs": [],
   "source": [
    "'''\n",
    "Run the gradient descent algorithm\n",
    "'''\n",
    "for _ in range(n_iterations):\n",
    "    '''\n",
    "    Calculate residuals\n",
    "    '''\n",
    "    # Predict the output\n",
    "    y_pred = np.dot(X, weights)\n",
    "\n",
    "    # Calculate the residuals (residuals = y_pred - y)\n",
    "    residuals = y_pred - y\n",
    "\n",
    "    '''\n",
    "    Calculate gradient\n",
    "    '''\n",
    "    gradient_vector = np.dot(X.T, residuals)\n",
    "\n",
    "\n",
    "    # Store loss (summ of residuals squared)\n",
    "    losses.append(np.sum((residuals ** 2)))\n",
    "\n",
    "    # Update the weights\n",
    "    weights -= lr * gradient_vector\n"
   ]
  },
  {
   "cell_type": "code",
   "execution_count": 48,
   "metadata": {},
   "outputs": [
    {
     "data": {
      "text/plain": [
       "[<matplotlib.lines.Line2D at 0x2cea1a93788>]"
      ]
     },
     "execution_count": 48,
     "metadata": {},
     "output_type": "execute_result"
    },
    {
     "data": {
      "image/png": "[encoded data removed]",
      "text/plain": [
       "<Figure size 432x288 with 1 Axes>"
      ]
     },
     "metadata": {
      "needs_background": "light"
     },
     "output_type": "display_data"
    }
   ],
   "source": [
    "# Show losses\n",
    "plt.plot(losses)"
   ]
  },
  {
   "cell_type": "markdown",
   "metadata": {},
   "source": [
    "Evaluate the model"
   ]
  },
  {
   "cell_type": "code",
   "execution_count": 49,
   "metadata": {},
   "outputs": [
    {
     "data": {
      "text/plain": [
       "array([0.10181582])"
      ]
     },
     "execution_count": 49,
     "metadata": {},
     "output_type": "execute_result"
    }
   ],
   "source": [
    "# Predict the y for all X values\n",
    "y_pred = np.dot(X, weights)\n",
    "\n",
    "\n",
    "'''\n",
    "Implement mean squared error function:\n",
    "Given y and y_pred\n",
    "Calculate the squared differences between y and y_pred\n",
    "Return the mean of the squared differences\n",
    "'''\n",
    "def mean_squared_error(y, y_pred):\n",
    "    # One line solution\n",
    "    mse = np.sum((y - y_pred) ** 2) / len(y)\n",
    "    # Loop solution\n",
    "\n",
    "    mse = 0\n",
    "    for i in range(len(y)):\n",
    "        #mse += (y[i] - y_pred[i]) ** 2\n",
    "        mse += (y[i] - y_pred[i])*(y[i] - y_pred[i])\n",
    "    mse /= len(y)\n",
    "    return mse\n",
    "\n",
    "# Calculate the mean squared error\n",
    "mean_squared_error(y, y_pred)\n"
   ]
  },
  {
   "cell_type": "markdown",
   "metadata": {},
   "source": [
    "Visualize the model"
   ]
  },
  {
   "cell_type": "code",
   "execution_count": 50,
   "metadata": {},
   "outputs": [
    {
     "data": {
      "image/png": "[encoded data removed]",
      "text/plain": [
       "<Figure size 432x288 with 1 Axes>"
      ]
     },
     "metadata": {
      "needs_background": "light"
     },
     "output_type": "display_data"
    }
   ],
   "source": [
    "def abline(slope, intercept):\n",
    "    \"\"\"Plot a line from slope and intercept\"\"\"\n",
    "    axes = plt.gca()\n",
    "    x_vals = np.array(axes.get_xlim())\n",
    "    y_vals = intercept + slope * x_vals\n",
    "    plt.plot(x_vals, y_vals)\n",
    "\n",
    "plt.scatter(X[:,1:],y,s=10)\n",
    "abline(slope=weights[1], intercept=weights[0])"
   ]
  },
  {
   "cell_type": "markdown",
   "metadata": {},
   "source": [
    "Compare our mean_squared_error to sklearn"
   ]
  },
  {
   "cell_type": "code",
   "execution_count": 56,
   "metadata": {},
   "outputs": [
    {
     "data": {
      "text/plain": [
       "0.07623324582875007"
      ]
     },
     "execution_count": 56,
     "metadata": {},
     "output_type": "execute_result"
    }
   ],
   "source": [
    "from sklearn.metrics import mean_squared_error as mse_sklearn\n",
    "mse_sklearn(y, y_pred)"
   ]
  },
  {
   "cell_type": "markdown",
   "metadata": {},
   "source": [
    "Use the model to predict an example value"
   ]
  },
  {
   "cell_type": "code",
   "execution_count": 52,
   "metadata": {},
   "outputs": [
    {
     "name": "stdout",
     "output_type": "stream",
     "text": [
      "[3.53008788]\n",
      "[3.53008788]\n"
     ]
    }
   ],
   "source": [
    "test_value = 0.5\n",
    "print(np.dot([1,test_value], weights))\n",
    "print(test_value * weights[1] + weights[0])"
   ]
  },
  {
   "cell_type": "code",
   "execution_count": null,
   "metadata": {},
   "outputs": [],
   "source": []
  },
  {
   "cell_type": "code",
   "execution_count": null,
   "metadata": {},
   "outputs": [],
   "source": []
  },
  {
   "cell_type": "markdown",
   "metadata": {},
   "source": [
    "OOP Aproach"
   ]
  },
  {
   "cell_type": "code",
   "execution_count": 53,
   "metadata": {},
   "outputs": [],
   "source": [
    "# import linear model class\n",
    "from linear_regression import LinearRegression\n",
    "\n",
    "# Change jupyter settings to reload dependencies on change\n",
    "%load_ext autoreload\n",
    "%autoreload 2"
   ]
  },
  {
   "cell_type": "code",
   "execution_count": 55,
   "metadata": {},
   "outputs": [
    {
     "data": {
      "text/plain": [
       "array([0.07623325])"
      ]
     },
     "execution_count": 55,
     "metadata": {},
     "output_type": "execute_result"
    }
   ],
   "source": [
    "# Initialize a LinearRegression object\n",
    "regression = LinearRegression()\n",
    "\n",
    "# Fit the model\n",
    "regression.fit(X, y)\n",
    "\n",
    "# Predict the y for all X values\n",
    "y_pred = regression.predict(X)\n",
    "\n",
    "# Evaluate the model\n",
    "mean_squared_error(y, y_pred)"
   ]
  }
 ],
 "metadata": {
  "interpreter": {
   "hash": "a81b55685ebb6380129efe90592a7e4f2f571da2ab32c8bbcf8b970d830ead19"
  },
  "kernelspec": {
   "display_name": "Python 3.7.6 64-bit",
   "language": "python",
   "name": "python3"
  },
  "language_info": {
   "codemirror_mode": {
    "name": "ipython",
    "version": 3
   },
   "file_extension": ".py",
   "mimetype": "text/x-python",
   "name": "python",
   "nbconvert_exporter": "python",
   "pygments_lexer": "ipython3",
   "version": "3.7.6"
  },
  "orig_nbformat": 4
 },
 "nbformat": 4,
 "nbformat_minor": 2
}
