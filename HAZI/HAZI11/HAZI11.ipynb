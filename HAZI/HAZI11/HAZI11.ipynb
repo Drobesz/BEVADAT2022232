{
 "cells": [
  {
   "cell_type": "code",
   "execution_count": 1,
   "metadata": {},
   "outputs": [
    {
     "data": {
      "text/plain": [
       "'\\nKészíts egy metódust ami a cifar100 adatbázisból betölti a train és test adatokat. (tf.keras.datasets.cifar100.load_data())\\nMajd a tanitó, és tesztelő adatokat normalizálja, és vissza is tér velük.\\n\\n\\nEgy példa a kimenetre: train_images, train_labels, test_images, test_labels\\nfüggvény neve: cifar100_data\\n'"
      ]
     },
     "execution_count": 1,
     "metadata": {},
     "output_type": "execute_result"
    }
   ],
   "source": [
    "\n",
    "import tensorflow as tf\n",
    "import numpy as np\n",
    "\n",
    "'''\n",
    "Készíts egy metódust ami a cifar100 adatbázisból betölti a train és test adatokat. (tf.keras.datasets.cifar100.load_data())\n",
    "Majd a tanitó, és tesztelő adatokat normalizálja, és vissza is tér velük.\n",
    "\n",
    "\n",
    "Egy példa a kimenetre: train_images, train_labels, test_images, test_labels\n",
    "függvény neve: cifar100_data\n",
    "'''\n",
    "\n"
   ]
  },
  {
   "cell_type": "code",
   "execution_count": 2,
   "metadata": {},
   "outputs": [],
   "source": [
    "def cifar100_data() -> tuple[np.ndarray, np.ndarray, np.ndarray, np.ndarray]:\n",
    "    (train_images, train_labels), (test_images, test_labels) = tf.keras.datasets.cifar100.load_data()\n",
    "    train_images = train_images.astype('float32') / 255.0\n",
    "    test_images = test_images.astype('float32') / 255.0\n",
    "    \n",
    "    return train_images, train_labels, test_images, test_labels\n",
    "    "
   ]
  },
  {
   "cell_type": "code",
   "execution_count": 3,
   "metadata": {},
   "outputs": [],
   "source": [
    "train_images, train_labels, test_images, test_labels = cifar100_data()"
   ]
  },
  {
   "cell_type": "code",
   "execution_count": 4,
   "metadata": {},
   "outputs": [
    {
     "data": {
      "text/plain": [
       "'\\nKészíts egy konvolúciós neurális hálót, ami képes felismerni a képen mi van a 100 osztály közül.\\nA háló kimenete legyen 100 elemű, és a softmax aktivációs függvényt használja.\\nHálon belül tetszőleges számú réteg lehet..\\n\\n\\nEgy példa a kimenetre: model,\\nreturn type: keras.engine.sequential.Sequential\\nfüggvény neve: cifar100_model\\n'"
      ]
     },
     "execution_count": 4,
     "metadata": {},
     "output_type": "execute_result"
    }
   ],
   "source": [
    "'''\n",
    "Készíts egy konvolúciós neurális hálót, ami képes felismerni a képen mi van a 100 osztály közül.\n",
    "A háló kimenete legyen 100 elemű, és a softmax aktivációs függvényt használja.\n",
    "Hálon belül tetszőleges számú réteg lehet..\n",
    "\n",
    "\n",
    "Egy példa a kimenetre: model,\n",
    "return type: keras.engine.sequential.Sequential\n",
    "függvény neve: cifar100_model\n",
    "'''\n"
   ]
  },
  {
   "cell_type": "code",
   "execution_count": 41,
   "metadata": {},
   "outputs": [],
   "source": [
    "def cifar100_model() -> tf.keras.Sequential:\n",
    "    model = tf.keras.Sequential([\n",
    "        tf.keras.layers.Conv2D(filters = 64,\n",
    "                               kernel_size = (3, 3),\n",
    "                               strides = (1, 1),\n",
    "                               activation = tf.keras.activations.relu,\n",
    "                               input_shape = (32, 32, 3)),\n",
    "        tf.keras.layers.MaxPooling2D((2, 2)),\n",
    "        tf.keras.layers.Conv2D(filters = 64,\n",
    "                               kernel_size = (3, 3),\n",
    "                               strides = (1, 1),\n",
    "                               activation = tf.keras.activations.relu,\n",
    "                               input_shape = (32, 32, 3)),\n",
    "        tf.keras.layers.MaxPooling2D((2,2)),\n",
    "        tf.keras.layers.Conv2D(filters = 64,\n",
    "                               kernel_size = (3, 3),\n",
    "                               strides = (1, 1),\n",
    "                               activation = tf.keras.activations.relu,\n",
    "                               input_shape = (32, 32, 3)),\n",
    "        tf.keras.layers.MaxPooling2D((2,2)),\n",
    "        tf.keras.layers.Flatten(),\n",
    "        tf.keras.layers.Dense(64, activation = 'relu'),\n",
    "        tf.keras.layers.Dense(100, activation = 'softmax')\n",
    "    ])\n",
    "    return model"
   ]
  },
  {
   "cell_type": "code",
   "execution_count": 42,
   "metadata": {},
   "outputs": [],
   "source": [
    "model = cifar100_model()"
   ]
  },
  {
   "cell_type": "code",
   "execution_count": 7,
   "metadata": {},
   "outputs": [
    {
     "data": {
      "text/plain": [
       "'\\nKészíts egy metódust, ami a bemeneti hálot compile-olja.\\nOptimizer: Adam\\nLoss: SparseCategoricalCrossentropy(from_logits=False)\\n\\nEgy példa a bemenetre: model\\nEgy példa a kimenetre: model\\nreturn type: keras.engine.sequential.Sequential\\nfüggvény neve: model_compile\\n'"
      ]
     },
     "execution_count": 7,
     "metadata": {},
     "output_type": "execute_result"
    }
   ],
   "source": [
    "'''\n",
    "Készíts egy metódust, ami a bemeneti hálot compile-olja.\n",
    "Optimizer: Adam\n",
    "Loss: SparseCategoricalCrossentropy(from_logits=False)\n",
    "\n",
    "Egy példa a bemenetre: model\n",
    "Egy példa a kimenetre: model\n",
    "return type: keras.engine.sequential.Sequential\n",
    "függvény neve: model_compile\n",
    "'''\n"
   ]
  },
  {
   "cell_type": "code",
   "execution_count": 43,
   "metadata": {},
   "outputs": [],
   "source": [
    "def model_compile(model) -> tf.keras.Sequential:\n",
    "    model.compile(optimizer = 'adam', \n",
    "                  loss = tf.losses.SparseCategoricalCrossentropy(from_logits = False),\n",
    "                  metrics = ['accuracy'])\n",
    "    return model"
   ]
  },
  {
   "cell_type": "code",
   "execution_count": 44,
   "metadata": {},
   "outputs": [
    {
     "data": {
      "text/plain": [
       "<keras.engine.sequential.Sequential at 0x25afe9aab90>"
      ]
     },
     "execution_count": 44,
     "metadata": {},
     "output_type": "execute_result"
    }
   ],
   "source": [
    "model_compile(model)"
   ]
  },
  {
   "cell_type": "code",
   "execution_count": 10,
   "metadata": {},
   "outputs": [
    {
     "data": {
      "text/plain": [
       "'\\nKészíts egy metódust, ami a bemeneti hálót feltanítja.\\n\\nEgy példa a bemenetre: model,epochs, train_images, train_labelsz\\nEgy példa a kimenetre: model\\nreturn type: keras.engine.sequential.Sequential\\nfüggvény neve: model_fit\\n'"
      ]
     },
     "execution_count": 10,
     "metadata": {},
     "output_type": "execute_result"
    }
   ],
   "source": [
    "'''\n",
    "Készíts egy metódust, ami a bemeneti hálót feltanítja.\n",
    "\n",
    "Egy példa a bemenetre: model,epochs, train_images, train_labelsz\n",
    "Egy példa a kimenetre: model\n",
    "return type: keras.engine.sequential.Sequential\n",
    "függvény neve: model_fit\n",
    "'''\n"
   ]
  },
  {
   "cell_type": "code",
   "execution_count": 45,
   "metadata": {},
   "outputs": [],
   "source": [
    "def model_fit(model, epochs, train_images, train_labels) -> tf.keras.Sequential:\n",
    "    model.fit(train_images, train_labels, epochs = epochs, batch_size = 128, verbose = 2)\n",
    "    return model"
   ]
  },
  {
   "cell_type": "code",
   "execution_count": 46,
   "metadata": {},
   "outputs": [
    {
     "name": "stdout",
     "output_type": "stream",
     "text": [
      "Epoch 1/16\n",
      "391/391 - 28s - loss: 4.0876 - accuracy: 0.0776 - 28s/epoch - 70ms/step\n",
      "Epoch 2/16\n",
      "391/391 - 27s - loss: 3.5340 - accuracy: 0.1649 - 27s/epoch - 68ms/step\n",
      "Epoch 3/16\n",
      "391/391 - 28s - loss: 3.2493 - accuracy: 0.2144 - 28s/epoch - 73ms/step\n",
      "Epoch 4/16\n",
      "391/391 - 27s - loss: 3.0606 - accuracy: 0.2481 - 27s/epoch - 68ms/step\n",
      "Epoch 5/16\n",
      "391/391 - 27s - loss: 2.9289 - accuracy: 0.2752 - 27s/epoch - 68ms/step\n",
      "Epoch 6/16\n",
      "391/391 - 27s - loss: 2.8217 - accuracy: 0.2976 - 27s/epoch - 68ms/step\n",
      "Epoch 7/16\n",
      "391/391 - 27s - loss: 2.7340 - accuracy: 0.3126 - 27s/epoch - 68ms/step\n",
      "Epoch 8/16\n",
      "391/391 - 27s - loss: 2.6521 - accuracy: 0.3305 - 27s/epoch - 68ms/step\n",
      "Epoch 9/16\n",
      "391/391 - 27s - loss: 2.5872 - accuracy: 0.3440 - 27s/epoch - 68ms/step\n",
      "Epoch 10/16\n",
      "391/391 - 26s - loss: 2.5295 - accuracy: 0.3548 - 26s/epoch - 68ms/step\n",
      "Epoch 11/16\n",
      "391/391 - 27s - loss: 2.4758 - accuracy: 0.3655 - 27s/epoch - 68ms/step\n",
      "Epoch 12/16\n",
      "391/391 - 27s - loss: 2.4313 - accuracy: 0.3785 - 27s/epoch - 68ms/step\n",
      "Epoch 13/16\n",
      "391/391 - 27s - loss: 2.3811 - accuracy: 0.3890 - 27s/epoch - 68ms/step\n",
      "Epoch 14/16\n",
      "391/391 - 27s - loss: 2.3469 - accuracy: 0.3925 - 27s/epoch - 68ms/step\n",
      "Epoch 15/16\n",
      "391/391 - 27s - loss: 2.3139 - accuracy: 0.4016 - 27s/epoch - 69ms/step\n",
      "Epoch 16/16\n",
      "391/391 - 27s - loss: 2.2714 - accuracy: 0.4110 - 27s/epoch - 68ms/step\n"
     ]
    },
    {
     "data": {
      "text/plain": [
       "<keras.engine.sequential.Sequential at 0x25afe9aab90>"
      ]
     },
     "execution_count": 46,
     "metadata": {},
     "output_type": "execute_result"
    }
   ],
   "source": [
    "#model_fit(model, 16, train_images, train_labels)"
   ]
  },
  {
   "cell_type": "code",
   "execution_count": 33,
   "metadata": {},
   "outputs": [],
   "source": [
    "'''\n",
    "Készíts egy metódust, ami a bemeneti hálót kiértékeli a teszt adatokon.\n",
    "\n",
    "Egy példa a bemenetre: model, test_images, test_labels\n",
    "Egy példa a kimenetre: test_loss, test_acc\n",
    "return type: float, float\n",
    "függvény neve: model_evaluate\n",
    "'''\n"
   ]
  },
  {
   "cell_type": "code",
   "execution_count": 47,
   "metadata": {},
   "outputs": [],
   "source": [
    "def model_evaluate(model, test_images, test_labels) -> tuple[np.ndarray, np.ndarray]:\n",
    "    model.evaluate(test_images, test_labels, batch_size = 128)\n",
    "    return"
   ]
  },
  {
   "cell_type": "code",
   "execution_count": 49,
   "metadata": {},
   "outputs": [
    {
     "name": "stdout",
     "output_type": "stream",
     "text": [
      "79/79 [==============================] - 1s 18ms/step - loss: 2.5062 - accuracy: 0.3628\n"
     ]
    }
   ],
   "source": [
    "model_evaluate(model, test_images, test_labels)"
   ]
  }
 ],
 "metadata": {
  "kernelspec": {
   "display_name": "Python 3",
   "language": "python",
   "name": "python3"
  },
  "language_info": {
   "codemirror_mode": {
    "name": "ipython",
    "version": 3
   },
   "file_extension": ".py",
   "mimetype": "text/x-python",
   "name": "python",
   "nbconvert_exporter": "python",
   "pygments_lexer": "ipython3",
   "version": "3.11.3"
  },
  "orig_nbformat": 4
 },
 "nbformat": 4,
 "nbformat_minor": 2
}
